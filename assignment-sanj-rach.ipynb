{
 "cells": [
  {
   "cell_type": "code",
   "execution_count": 1,
   "metadata": {},
   "outputs": [],
   "source": [
    "#importing libraries\n",
    "import random\n",
    "import pandas as pd\n",
    "import numpy as np\n",
    "import matplotlib.pyplot as plt\n",
    "import seaborn as sns\n",
    "import re\n",
    "from collections import Counter\n",
    "import nltk\n",
    "from nltk.corpus import stopwords\n",
    "from nltk import word_tokenize\n",
    "from collections import Counter\n",
    "from sklearn.linear_model import LinearRegression\n",
    "from itertools import product\n",
    "from sklearn.feature_extraction.text import CountVectorizer\n",
    "import spacy\n",
    "\n",
    "%matplotlib inline\n",
    "sns.set(color_codes = True)"
   ]
  },
  {
   "cell_type": "code",
   "execution_count": 2,
   "metadata": {},
   "outputs": [
    {
     "name": "stderr",
     "output_type": "stream",
     "text": [
      "[nltk_data] Downloading package stopwords to\n",
      "[nltk_data]     C:\\Users\\rahul\\AppData\\Roaming\\nltk_data...\n",
      "[nltk_data]   Package stopwords is already up-to-date!\n",
      "[nltk_data] Downloading package punkt to\n",
      "[nltk_data]     C:\\Users\\rahul\\AppData\\Roaming\\nltk_data...\n",
      "[nltk_data]   Package punkt is already up-to-date!\n"
     ]
    }
   ],
   "source": [
    "df=pd.read_excel('beer-reviews.xlsx')\n",
    "nltk.download('stopwords')\n",
    "nltk.download('punkt')\n",
    "stop_words = set(stopwords.words('english'))"
   ]
  },
  {
   "cell_type": "code",
   "execution_count": 3,
   "metadata": {},
   "outputs": [
    {
     "name": "stdout",
     "output_type": "stream",
     "text": [
      "Collecting en-core-web-md==3.6.0"
     ]
    },
    {
     "name": "stderr",
     "output_type": "stream",
     "text": [
      "\n",
      "[notice] A new release of pip is available: 23.1.2 -> 23.2.1\n",
      "[notice] To update, run: python.exe -m pip install --upgrade pip\n"
     ]
    },
    {
     "name": "stdout",
     "output_type": "stream",
     "text": [
      "\n",
      "  Downloading https://github.com/explosion/spacy-models/releases/download/en_core_web_md-3.6.0/en_core_web_md-3.6.0-py3-none-any.whl (42.8 MB)\n",
      "                                              0.0/42.8 MB ? eta -:--:--\n",
      "                                              0.2/42.8 MB 3.1 MB/s eta 0:00:14\n",
      "                                              0.9/42.8 MB 9.0 MB/s eta 0:00:05\n",
      "     -                                        1.8/42.8 MB 13.0 MB/s eta 0:00:04\n",
      "     ---                                      3.5/42.8 MB 20.2 MB/s eta 0:00:02\n",
      "     ----                                     4.8/42.8 MB 22.1 MB/s eta 0:00:02\n",
      "     ------                                   6.6/42.8 MB 23.5 MB/s eta 0:00:02\n",
      "     -------                                  7.6/42.8 MB 24.2 MB/s eta 0:00:02\n",
      "     --------                                 8.7/42.8 MB 24.2 MB/s eta 0:00:02\n",
      "     ----------                              11.1/42.8 MB 32.8 MB/s eta 0:00:01\n",
      "     -----------                             12.8/42.8 MB 36.4 MB/s eta 0:00:01\n",
      "     -------------                           14.5/42.8 MB 36.4 MB/s eta 0:00:01\n",
      "     --------------                          15.5/42.8 MB 34.4 MB/s eta 0:00:01\n",
      "     ---------------                         17.4/42.8 MB 36.4 MB/s eta 0:00:01\n",
      "     -----------------                       18.9/42.8 MB 36.4 MB/s eta 0:00:01\n",
      "     ------------------                      20.7/42.8 MB 34.4 MB/s eta 0:00:01\n",
      "     -------------------                     21.5/42.8 MB 31.2 MB/s eta 0:00:01\n",
      "     ----------------------                  24.5/42.8 MB 34.4 MB/s eta 0:00:01\n",
      "     -----------------------                 25.6/42.8 MB 36.3 MB/s eta 0:00:01\n",
      "     -------------------------               27.4/42.8 MB 34.4 MB/s eta 0:00:01\n",
      "     --------------------------              29.3/42.8 MB 38.6 MB/s eta 0:00:01\n",
      "     ----------------------------            30.8/42.8 MB 34.4 MB/s eta 0:00:01\n",
      "     -----------------------------           32.8/42.8 MB 38.5 MB/s eta 0:00:01\n",
      "     -------------------------------         34.4/42.8 MB 34.4 MB/s eta 0:00:01\n",
      "     ---------------------------------       36.2/42.8 MB 36.4 MB/s eta 0:00:01\n",
      "     -----------------------------------     38.8/42.8 MB 40.9 MB/s eta 0:00:01\n",
      "     ------------------------------------    40.4/42.8 MB 40.9 MB/s eta 0:00:01\n",
      "     --------------------------------------  41.9/42.8 MB 40.9 MB/s eta 0:00:01\n",
      "     --------------------------------------  42.8/42.8 MB 38.5 MB/s eta 0:00:01\n",
      "     --------------------------------------  42.8/42.8 MB 38.5 MB/s eta 0:00:01\n",
      "     --------------------------------------  42.8/42.8 MB 38.5 MB/s eta 0:00:01\n",
      "     --------------------------------------  42.8/42.8 MB 38.5 MB/s eta 0:00:01\n",
      "     --------------------------------------  42.8/42.8 MB 38.5 MB/s eta 0:00:01\n",
      "     --------------------------------------  42.8/42.8 MB 38.5 MB/s eta 0:00:01\n",
      "     --------------------------------------  42.8/42.8 MB 38.5 MB/s eta 0:00:01\n",
      "     --------------------------------------  42.8/42.8 MB 38.5 MB/s eta 0:00:01\n",
      "     --------------------------------------- 42.8/42.8 MB 15.2 MB/s eta 0:00:00\n",
      "Requirement already satisfied: spacy<3.7.0,>=3.6.0 in c:\\users\\rahul\\appdata\\local\\programs\\python\\python311\\lib\\site-packages (from en-core-web-md==3.6.0) (3.6.1)\n",
      "Requirement already satisfied: spacy-legacy<3.1.0,>=3.0.11 in c:\\users\\rahul\\appdata\\local\\programs\\python\\python311\\lib\\site-packages (from spacy<3.7.0,>=3.6.0->en-core-web-md==3.6.0) (3.0.12)\n",
      "Requirement already satisfied: spacy-loggers<2.0.0,>=1.0.0 in c:\\users\\rahul\\appdata\\local\\programs\\python\\python311\\lib\\site-packages (from spacy<3.7.0,>=3.6.0->en-core-web-md==3.6.0) (1.0.5)\n",
      "Requirement already satisfied: murmurhash<1.1.0,>=0.28.0 in c:\\users\\rahul\\appdata\\local\\programs\\python\\python311\\lib\\site-packages (from spacy<3.7.0,>=3.6.0->en-core-web-md==3.6.0) (1.0.10)\n",
      "Requirement already satisfied: cymem<2.1.0,>=2.0.2 in c:\\users\\rahul\\appdata\\local\\programs\\python\\python311\\lib\\site-packages (from spacy<3.7.0,>=3.6.0->en-core-web-md==3.6.0) (2.0.8)\n",
      "Requirement already satisfied: preshed<3.1.0,>=3.0.2 in c:\\users\\rahul\\appdata\\local\\programs\\python\\python311\\lib\\site-packages (from spacy<3.7.0,>=3.6.0->en-core-web-md==3.6.0) (3.0.9)\n",
      "Requirement already satisfied: thinc<8.2.0,>=8.1.8 in c:\\users\\rahul\\appdata\\local\\programs\\python\\python311\\lib\\site-packages (from spacy<3.7.0,>=3.6.0->en-core-web-md==3.6.0) (8.1.12)\n",
      "Requirement already satisfied: wasabi<1.2.0,>=0.9.1 in c:\\users\\rahul\\appdata\\local\\programs\\python\\python311\\lib\\site-packages (from spacy<3.7.0,>=3.6.0->en-core-web-md==3.6.0) (1.1.2)\n",
      "Requirement already satisfied: srsly<3.0.0,>=2.4.3 in c:\\users\\rahul\\appdata\\local\\programs\\python\\python311\\lib\\site-packages (from spacy<3.7.0,>=3.6.0->en-core-web-md==3.6.0) (2.4.7)\n",
      "Requirement already satisfied: catalogue<2.1.0,>=2.0.6 in c:\\users\\rahul\\appdata\\local\\programs\\python\\python311\\lib\\site-packages (from spacy<3.7.0,>=3.6.0->en-core-web-md==3.6.0) (2.0.9)\n",
      "Requirement already satisfied: typer<0.10.0,>=0.3.0 in c:\\users\\rahul\\appdata\\local\\programs\\python\\python311\\lib\\site-packages (from spacy<3.7.0,>=3.6.0->en-core-web-md==3.6.0) (0.9.0)\n",
      "Requirement already satisfied: pathy>=0.10.0 in c:\\users\\rahul\\appdata\\local\\programs\\python\\python311\\lib\\site-packages (from spacy<3.7.0,>=3.6.0->en-core-web-md==3.6.0) (0.10.2)\n",
      "Requirement already satisfied: smart-open<7.0.0,>=5.2.1 in c:\\users\\rahul\\appdata\\local\\programs\\python\\python311\\lib\\site-packages (from spacy<3.7.0,>=3.6.0->en-core-web-md==3.6.0) (6.4.0)\n",
      "Requirement already satisfied: tqdm<5.0.0,>=4.38.0 in c:\\users\\rahul\\appdata\\local\\programs\\python\\python311\\lib\\site-packages (from spacy<3.7.0,>=3.6.0->en-core-web-md==3.6.0) (4.65.0)\n",
      "Requirement already satisfied: numpy>=1.15.0 in c:\\users\\rahul\\appdata\\local\\programs\\python\\python311\\lib\\site-packages (from spacy<3.7.0,>=3.6.0->en-core-web-md==3.6.0) (1.24.3)\n",
      "Requirement already satisfied: requests<3.0.0,>=2.13.0 in c:\\users\\rahul\\appdata\\local\\programs\\python\\python311\\lib\\site-packages (from spacy<3.7.0,>=3.6.0->en-core-web-md==3.6.0) (2.31.0)\n",
      "Requirement already satisfied: pydantic!=1.8,!=1.8.1,<3.0.0,>=1.7.4 in c:\\users\\rahul\\appdata\\local\\programs\\python\\python311\\lib\\site-packages (from spacy<3.7.0,>=3.6.0->en-core-web-md==3.6.0) (2.3.0)\n",
      "Requirement already satisfied: jinja2 in c:\\users\\rahul\\appdata\\local\\programs\\python\\python311\\lib\\site-packages (from spacy<3.7.0,>=3.6.0->en-core-web-md==3.6.0) (3.1.2)\n",
      "Requirement already satisfied: setuptools in c:\\users\\rahul\\appdata\\local\\programs\\python\\python311\\lib\\site-packages (from spacy<3.7.0,>=3.6.0->en-core-web-md==3.6.0) (65.5.0)\n",
      "Requirement already satisfied: packaging>=20.0 in c:\\users\\rahul\\appdata\\roaming\\python\\python311\\site-packages (from spacy<3.7.0,>=3.6.0->en-core-web-md==3.6.0) (23.1)\n",
      "Requirement already satisfied: langcodes<4.0.0,>=3.2.0 in c:\\users\\rahul\\appdata\\local\\programs\\python\\python311\\lib\\site-packages (from spacy<3.7.0,>=3.6.0->en-core-web-md==3.6.0) (3.3.0)\n",
      "Requirement already satisfied: annotated-types>=0.4.0 in c:\\users\\rahul\\appdata\\local\\programs\\python\\python311\\lib\\site-packages (from pydantic!=1.8,!=1.8.1,<3.0.0,>=1.7.4->spacy<3.7.0,>=3.6.0->en-core-web-md==3.6.0) (0.5.0)\n",
      "Requirement already satisfied: pydantic-core==2.6.3 in c:\\users\\rahul\\appdata\\local\\programs\\python\\python311\\lib\\site-packages (from pydantic!=1.8,!=1.8.1,<3.0.0,>=1.7.4->spacy<3.7.0,>=3.6.0->en-core-web-md==3.6.0) (2.6.3)\n",
      "Requirement already satisfied: typing-extensions>=4.6.1 in c:\\users\\rahul\\appdata\\local\\programs\\python\\python311\\lib\\site-packages (from pydantic!=1.8,!=1.8.1,<3.0.0,>=1.7.4->spacy<3.7.0,>=3.6.0->en-core-web-md==3.6.0) (4.8.0)\n",
      "Requirement already satisfied: charset-normalizer<4,>=2 in c:\\users\\rahul\\appdata\\local\\programs\\python\\python311\\lib\\site-packages (from requests<3.0.0,>=2.13.0->spacy<3.7.0,>=3.6.0->en-core-web-md==3.6.0) (3.2.0)\n",
      "Requirement already satisfied: idna<4,>=2.5 in c:\\users\\rahul\\appdata\\local\\programs\\python\\python311\\lib\\site-packages (from requests<3.0.0,>=2.13.0->spacy<3.7.0,>=3.6.0->en-core-web-md==3.6.0) (3.4)\n",
      "Requirement already satisfied: urllib3<3,>=1.21.1 in c:\\users\\rahul\\appdata\\local\\programs\\python\\python311\\lib\\site-packages (from requests<3.0.0,>=2.13.0->spacy<3.7.0,>=3.6.0->en-core-web-md==3.6.0) (1.26.16)\n",
      "Requirement already satisfied: certifi>=2017.4.17 in c:\\users\\rahul\\appdata\\local\\programs\\python\\python311\\lib\\site-packages (from requests<3.0.0,>=2.13.0->spacy<3.7.0,>=3.6.0->en-core-web-md==3.6.0) (2023.7.22)\n",
      "Requirement already satisfied: blis<0.8.0,>=0.7.8 in c:\\users\\rahul\\appdata\\local\\programs\\python\\python311\\lib\\site-packages (from thinc<8.2.0,>=8.1.8->spacy<3.7.0,>=3.6.0->en-core-web-md==3.6.0) (0.7.10)\n",
      "Requirement already satisfied: confection<1.0.0,>=0.0.1 in c:\\users\\rahul\\appdata\\local\\programs\\python\\python311\\lib\\site-packages (from thinc<8.2.0,>=8.1.8->spacy<3.7.0,>=3.6.0->en-core-web-md==3.6.0) (0.1.3)\n",
      "Requirement already satisfied: colorama in c:\\users\\rahul\\appdata\\roaming\\python\\python311\\site-packages (from tqdm<5.0.0,>=4.38.0->spacy<3.7.0,>=3.6.0->en-core-web-md==3.6.0) (0.4.6)\n",
      "Requirement already satisfied: click<9.0.0,>=7.1.1 in c:\\users\\rahul\\appdata\\local\\programs\\python\\python311\\lib\\site-packages (from typer<0.10.0,>=0.3.0->spacy<3.7.0,>=3.6.0->en-core-web-md==3.6.0) (8.1.6)\n",
      "Requirement already satisfied: MarkupSafe>=2.0 in c:\\users\\rahul\\appdata\\local\\programs\\python\\python311\\lib\\site-packages (from jinja2->spacy<3.7.0,>=3.6.0->en-core-web-md==3.6.0) (2.1.3)\n",
      "\u001b[38;5;2m✔ Download and installation successful\u001b[0m\n",
      "You can now load the package via spacy.load('en_core_web_md')\n"
     ]
    }
   ],
   "source": [
    "!python -m spacy download en_core_web_md "
   ]
  },
  {
   "cell_type": "code",
   "execution_count": 4,
   "metadata": {},
   "outputs": [
    {
     "data": {
      "text/plain": [
       "0                     amazing stout expensive worth price\n",
       "1           beer meet exceeded unreal hype simply amazing\n",
       "2                   let sit warm room little unbelievable\n",
       "3       small pour ebony dark real head intense rich a...\n",
       "4       vintage 2022 served tap toppling goliath snuli...\n",
       "                              ...                        \n",
       "6626    poured bottle snifter home thanks darin share ...\n",
       "6627    good god man holy shit really good beer blesse...\n",
       "6628    appearance bubble show lifts head fullsome thr...\n",
       "6629    pours sure describe color golden yellow brown ...\n",
       "6630    tropical nose sweet like sunnyd nice acidity a...\n",
       "Name: body, Length: 6631, dtype: object"
      ]
     },
     "execution_count": 4,
     "metadata": {},
     "output_type": "execute_result"
    }
   ],
   "source": [
    "stop = stopwords.words('english')\n",
    "def remove_stopwords(text):\n",
    "    words = nltk.word_tokenize(text)\n",
    "    stop_words = set(stopwords.words(\"english\"))\n",
    "    filtered_words = [word for word in words if word.lower() not in stop_words]\n",
    "    filtered_words = [word for word in filtered_words if word.isalnum()]\n",
    "    return \" \".join(filtered_words)\n",
    "df['body']=df['body'].str.lower()\n",
    "\n",
    "df['body'] = df['body'].astype(str).apply(remove_stopwords)\n",
    "df['body']\n"
   ]
  },
  {
   "cell_type": "code",
   "execution_count": 5,
   "metadata": {},
   "outputs": [
    {
     "data": {
      "text/html": [
       "<div>\n",
       "<style scoped>\n",
       "    .dataframe tbody tr th:only-of-type {\n",
       "        vertical-align: middle;\n",
       "    }\n",
       "\n",
       "    .dataframe tbody tr th {\n",
       "        vertical-align: top;\n",
       "    }\n",
       "\n",
       "    .dataframe thead th {\n",
       "        text-align: right;\n",
       "    }\n",
       "</style>\n",
       "<table border=\"1\" class=\"dataframe\">\n",
       "  <thead>\n",
       "    <tr style=\"text-align: right;\">\n",
       "      <th></th>\n",
       "      <th>item</th>\n",
       "      <th>body</th>\n",
       "      <th>rating</th>\n",
       "    </tr>\n",
       "  </thead>\n",
       "  <tbody>\n",
       "    <tr>\n",
       "      <th>0</th>\n",
       "      <td>Kentucky Brunch Brand Stout</td>\n",
       "      <td>amazing stout expensive worth price</td>\n",
       "      <td>5.00</td>\n",
       "    </tr>\n",
       "    <tr>\n",
       "      <th>1</th>\n",
       "      <td>Kentucky Brunch Brand Stout</td>\n",
       "      <td>beer meet exceeded unreal hype simply amazing</td>\n",
       "      <td>5.00</td>\n",
       "    </tr>\n",
       "    <tr>\n",
       "      <th>2</th>\n",
       "      <td>Kentucky Brunch Brand Stout</td>\n",
       "      <td>let sit warm room little unbelievable</td>\n",
       "      <td>5.00</td>\n",
       "    </tr>\n",
       "    <tr>\n",
       "      <th>3</th>\n",
       "      <td>Kentucky Brunch Brand Stout</td>\n",
       "      <td>small pour ebony dark real head intense rich a...</td>\n",
       "      <td>4.67</td>\n",
       "    </tr>\n",
       "    <tr>\n",
       "      <th>4</th>\n",
       "      <td>Kentucky Brunch Brand Stout</td>\n",
       "      <td>vintage 2022 served tap toppling goliath snuli...</td>\n",
       "      <td>5.00</td>\n",
       "    </tr>\n",
       "  </tbody>\n",
       "</table>\n",
       "</div>"
      ],
      "text/plain": [
       "                          item  \\\n",
       "0  Kentucky Brunch Brand Stout   \n",
       "1  Kentucky Brunch Brand Stout   \n",
       "2  Kentucky Brunch Brand Stout   \n",
       "3  Kentucky Brunch Brand Stout   \n",
       "4  Kentucky Brunch Brand Stout   \n",
       "\n",
       "                                                body  rating  \n",
       "0                amazing stout expensive worth price    5.00  \n",
       "1      beer meet exceeded unreal hype simply amazing    5.00  \n",
       "2              let sit warm room little unbelievable    5.00  \n",
       "3  small pour ebony dark real head intense rich a...    4.67  \n",
       "4  vintage 2022 served tap toppling goliath snuli...    5.00  "
      ]
     },
     "execution_count": 5,
     "metadata": {},
     "output_type": "execute_result"
    }
   ],
   "source": [
    "df.head()"
   ]
  },
  {
   "cell_type": "markdown",
   "metadata": {},
   "source": [
    "# Task B\n",
    "Assume that a customer, who will be using this recommender system, has specified 3 attributes\n",
    "in a product. E.g., one website describes multiple attributes of beer (but you should choose attributes\n",
    "from the actual data)\n",
    "Perform a word frequency analysis of beer reviews is a better way\n",
    "to find important attributes in the actual data."
   ]
  },
  {
   "cell_type": "code",
   "execution_count": 6,
   "metadata": {},
   "outputs": [
    {
     "name": "stdout",
     "output_type": "stream",
     "text": [
      "Top 3 Attributes:\n",
      "              word  frequency\n",
      "1829          beer       5266\n",
      "7320          head       3650\n",
      "14880        taste       3483\n",
      "8867         light       2891\n",
      "8885          like       2537\n",
      "6915          good       2249\n",
      "9239          malt       2165\n",
      "14696        sweet       2145\n",
      "4339          dark       1945\n",
      "10495          one       1859\n",
      "1317         aroma       1825\n",
      "2865   carbonation       1825\n",
      "6165        finish       1690\n",
      "10161         nice       1627\n",
      "10654      overall       1572\n"
     ]
    }
   ],
   "source": [
    "# Calculate word frequencies using CountVectorizer\n",
    "vectorizer = CountVectorizer()\n",
    "X = vectorizer.fit_transform(df['body'])\n",
    "\n",
    "# Calculate the frequency of each word in the reviews\n",
    "word_frequencies = pd.DataFrame({'word': vectorizer.get_feature_names_out(), 'frequency': np.array(X.sum(axis=0))[0]})\n",
    "\n",
    "# Get the top 3 most frequent words (attributes)\n",
    "top_attributes = word_frequencies.nlargest(15, 'frequency')\n",
    "\n",
    "# Display the top 3 attributes\n",
    "print(\"Top 3 Attributes:\")\n",
    "print(top_attributes)"
   ]
  },
  {
   "cell_type": "code",
   "execution_count": 7,
   "metadata": {},
   "outputs": [],
   "source": [
    "attributes=['light','malt','sweet','dark']"
   ]
  },
  {
   "cell_type": "markdown",
   "metadata": {},
   "source": [
    "# Task F\n",
    "\n",
    "How would your recommendation change if you use word vectors (e.g., the spaCy package with medium sized pretrained word vectors) instead of the plain vanilla bag-of-words cosine similarity? One way to analyze the difference would be to consider the % of reviews that mention a preferred attribute. E.g., if you recommend a product, what % of its reviews mention an attribute specified by the customer? Do you see any difference across bag-of-words and word vector approaches? Explain. This article may be useful: https://medium.com/swlh/word-embeddings-versus-bag-of-words-the-curious-case-of-recommender-systems-6ac1604d4424?source=friends_link&sk=d746da9f094d1222a35519387afc6338\n",
    "Note that the article doesn’t claim that bag-of-words will always be better than word embeddings for recommender systems. It lays out conditions under which it is likely to be the case. That is, depending on the attributes you use, you may or may not see the same effect. \n"
   ]
  },
  {
   "cell_type": "code",
   "execution_count": 8,
   "metadata": {},
   "outputs": [],
   "source": [
    "cust_attr= ['robust','fruity','hoppy']\n",
    "\n",
    "# Load spaCy with medium-sized pretrained word vectors\n",
    "nlp = spacy.load('en_core_web_md')\n",
    "\n",
    "# Function to calculate word vector similarity\n",
    "def word_vector_similarity(df):\n",
    "    text1 = df['body']\n",
    "    text2 = df['Customer attribute']\n",
    "    doc1 = nlp(text1)\n",
    "    doc2 = nlp(text2)\n",
    "    return doc1.similarity(doc2)\n",
    "\n",
    "df1= df.copy()\n",
    "df2= df.copy()\n",
    "df3=df.copy()\n",
    "\n",
    "df1['Customer attribute'] = cust_attr[0]\n",
    "df2['Customer attribute'] = cust_attr[1]\n",
    "df3['Customer attribute'] = cust_attr[2]"
   ]
  },
  {
   "cell_type": "code",
   "execution_count": 9,
   "metadata": {},
   "outputs": [
    {
     "data": {
      "text/plain": [
       "0                     amazing stout expensive worth price\n",
       "1           beer meet exceeded unreal hype simply amazing\n",
       "2                   let sit warm room little unbelievable\n",
       "3       small pour ebony dark real head intense rich a...\n",
       "4       vintage 2022 served tap toppling goliath snuli...\n",
       "                              ...                        \n",
       "6626    poured bottle snifter home thanks darin share ...\n",
       "6627    good god man holy shit really good beer blesse...\n",
       "6628    appearance bubble show lifts head fullsome thr...\n",
       "6629    pours sure describe color golden yellow brown ...\n",
       "6630    tropical nose sweet like sunnyd nice acidity a...\n",
       "Name: body, Length: 6631, dtype: object"
      ]
     },
     "execution_count": 9,
     "metadata": {},
     "output_type": "execute_result"
    }
   ],
   "source": [
    "df1['body']"
   ]
  },
  {
   "cell_type": "code",
   "execution_count": 10,
   "metadata": {},
   "outputs": [
    {
     "name": "stderr",
     "output_type": "stream",
     "text": [
      "C:\\Users\\rahul\\AppData\\Local\\Temp\\ipykernel_42300\\459070274.py:12: UserWarning: [W008] Evaluating Doc.similarity based on empty vectors.\n",
      "  return doc1.similarity(doc2)\n",
      "C:\\Users\\rahul\\AppData\\Local\\Temp\\ipykernel_42300\\459070274.py:12: UserWarning: [W008] Evaluating Doc.similarity based on empty vectors.\n",
      "  return doc1.similarity(doc2)\n",
      "C:\\Users\\rahul\\AppData\\Local\\Temp\\ipykernel_42300\\459070274.py:12: UserWarning: [W008] Evaluating Doc.similarity based on empty vectors.\n",
      "  return doc1.similarity(doc2)\n"
     ]
    }
   ],
   "source": [
    "df1['Similarity Score'] = df1.apply(word_vector_similarity, axis=1)\n",
    "df2['Similarity Score'] = df2.apply(word_vector_similarity, axis=1)\n",
    "df3['Similarity Score'] = df3.apply(word_vector_similarity, axis=1)"
   ]
  },
  {
   "cell_type": "code",
   "execution_count": 11,
   "metadata": {},
   "outputs": [
    {
     "data": {
      "text/html": [
       "<div>\n",
       "<style scoped>\n",
       "    .dataframe tbody tr th:only-of-type {\n",
       "        vertical-align: middle;\n",
       "    }\n",
       "\n",
       "    .dataframe tbody tr th {\n",
       "        vertical-align: top;\n",
       "    }\n",
       "\n",
       "    .dataframe thead th {\n",
       "        text-align: right;\n",
       "    }\n",
       "</style>\n",
       "<table border=\"1\" class=\"dataframe\">\n",
       "  <thead>\n",
       "    <tr style=\"text-align: right;\">\n",
       "      <th></th>\n",
       "      <th>item</th>\n",
       "      <th>body</th>\n",
       "      <th>rating</th>\n",
       "      <th>Customer attribute</th>\n",
       "      <th>Similarity Score</th>\n",
       "    </tr>\n",
       "  </thead>\n",
       "  <tbody>\n",
       "    <tr>\n",
       "      <th>0</th>\n",
       "      <td>Kentucky Brunch Brand Stout</td>\n",
       "      <td>amazing stout expensive worth price</td>\n",
       "      <td>5.00</td>\n",
       "      <td>robust</td>\n",
       "      <td>0.486838</td>\n",
       "    </tr>\n",
       "    <tr>\n",
       "      <th>1</th>\n",
       "      <td>Kentucky Brunch Brand Stout</td>\n",
       "      <td>beer meet exceeded unreal hype simply amazing</td>\n",
       "      <td>5.00</td>\n",
       "      <td>robust</td>\n",
       "      <td>0.410720</td>\n",
       "    </tr>\n",
       "    <tr>\n",
       "      <th>2</th>\n",
       "      <td>Kentucky Brunch Brand Stout</td>\n",
       "      <td>let sit warm room little unbelievable</td>\n",
       "      <td>5.00</td>\n",
       "      <td>robust</td>\n",
       "      <td>0.285641</td>\n",
       "    </tr>\n",
       "    <tr>\n",
       "      <th>3</th>\n",
       "      <td>Kentucky Brunch Brand Stout</td>\n",
       "      <td>small pour ebony dark real head intense rich a...</td>\n",
       "      <td>4.67</td>\n",
       "      <td>robust</td>\n",
       "      <td>0.445239</td>\n",
       "    </tr>\n",
       "    <tr>\n",
       "      <th>4</th>\n",
       "      <td>Kentucky Brunch Brand Stout</td>\n",
       "      <td>vintage 2022 served tap toppling goliath snuli...</td>\n",
       "      <td>5.00</td>\n",
       "      <td>robust</td>\n",
       "      <td>0.492351</td>\n",
       "    </tr>\n",
       "  </tbody>\n",
       "</table>\n",
       "</div>"
      ],
      "text/plain": [
       "                          item  \\\n",
       "0  Kentucky Brunch Brand Stout   \n",
       "1  Kentucky Brunch Brand Stout   \n",
       "2  Kentucky Brunch Brand Stout   \n",
       "3  Kentucky Brunch Brand Stout   \n",
       "4  Kentucky Brunch Brand Stout   \n",
       "\n",
       "                                                body  rating  \\\n",
       "0                amazing stout expensive worth price    5.00   \n",
       "1      beer meet exceeded unreal hype simply amazing    5.00   \n",
       "2              let sit warm room little unbelievable    5.00   \n",
       "3  small pour ebony dark real head intense rich a...    4.67   \n",
       "4  vintage 2022 served tap toppling goliath snuli...    5.00   \n",
       "\n",
       "  Customer attribute  Similarity Score  \n",
       "0             robust          0.486838  \n",
       "1             robust          0.410720  \n",
       "2             robust          0.285641  \n",
       "3             robust          0.445239  \n",
       "4             robust          0.492351  "
      ]
     },
     "execution_count": 11,
     "metadata": {},
     "output_type": "execute_result"
    }
   ],
   "source": [
    "df1.head()"
   ]
  },
  {
   "cell_type": "markdown",
   "metadata": {},
   "source": [
    "# Task H\n",
    "Using the top four attributes of beer (from word frequency analysis), calculate the lifts between\n",
    "these attributes and any 10 beers in your data. Choose one beer, and find the most similar beer (among\n",
    "the remaining 9) using the lift values. Explain your method."
   ]
  },
  {
   "cell_type": "code",
   "execution_count": 11,
   "metadata": {},
   "outputs": [],
   "source": [
    "def initialize(list1, list2):\n",
    "    attribute_mentions_per_review = {attribute: set() for attribute in list1 + list2}\n",
    "    co_mentions = {}\n",
    "    for attr1 in list1 + list2:\n",
    "        co_mentions[attr1] = {}\n",
    "        for brand in list1 + list2:\n",
    "            co_mentions[attr1][brand] = 0\n",
    "    individual_mentions = {attr: 0 for attr in list1 + list2}\n",
    "    lift_ratios = {}\n",
    "    lift_already_calculated = set()\n",
    "    return co_mentions, attribute_mentions_per_review, individual_mentions, lift_ratios, lift_already_calculated"
   ]
  },
  {
   "cell_type": "code",
   "execution_count": 12,
   "metadata": {},
   "outputs": [],
   "source": [
    "def calculate_lift(attr1, brand, co_mentions, individual_mentions, total_posts):\n",
    "    if attr1 == brand:\n",
    "        return 0  # Lift ratio between the same brand is 0\n",
    "    # Calculate lift using the formula: lift(attr1, brand) = (P(attr1 and brand) / (P(attr1) * P(brand))) * N\n",
    "    p_attr1_and_brand = co_mentions[attr1][brand]\n",
    "    p_attr1 = individual_mentions[attr1]\n",
    "    p_brand = individual_mentions[brand]\n",
    "    if p_attr1 == 0 or p_brand == 0:\n",
    "        return 0  \n",
    "    else:\n",
    "        return (p_attr1_and_brand / (p_attr1 * p_brand)) * total_posts"
   ]
  },
  {
   "cell_type": "code",
   "execution_count": 47,
   "metadata": {},
   "outputs": [],
   "source": [
    "#selected_beer_brands=[\"Mornin' Delight\",\"Nelson\",\"Stickee Monkee\",\"The Wild One\",\"Corsendonk Christmas Ale\"]\n",
    "attributes=['light', 'malt', 'sweet', 'dark']\n",
    "selected_beer_brands=[\"Old Chub\",\"Voodoo Ranger Juicy Haze IPA\",\"Harvest Ale (Limited Edition)\",\"The Angel's Share - Bourbon Barrel-Aged\",\"Weihenstephaner Korbinian\",\"G'Knight\",\"Mirror Pond Pale Ale\",\"Antarctica Pilsen\",\"Dark Lord\",\"Breakfast Stout\"]\n"
   ]
  },
  {
   "cell_type": "code",
   "execution_count": 48,
   "metadata": {},
   "outputs": [],
   "source": [
    "lift_df = pd.DataFrame(index=attributes, columns=selected_beer_brands)\n",
    "for brand in selected_beer_brands:\n",
    "    for attr in attributes:\n",
    "        # Calculate support and joint support\n",
    "        df['body'].fillna('', inplace=True)\n",
    "        support_attr = len(df[df['body'].str.contains(attr)]) / len(df)\n",
    "        support_brand = len(df[df['item'] == brand]) / len(df)\n",
    "        joint_support = len(df[(df['body'].str.contains(attr)) & (df['item'] == brand)]) / len(df)\n",
    "        \n",
    "        # Calculate lift\n",
    "        if support_attr * support_brand == 0:\n",
    "            lift = 0  # Avoid division by zero\n",
    "        else:\n",
    "            lift = joint_support / (support_attr * support_brand)\n",
    "\n",
    "        lift_df.at[attr, brand] = lift\n",
    "\n",
    "# Convert lift values to numeric (they may be stored as strings)\n",
    "#df = df.apply(pd.to_numeric, errors='coerce')\n",
    "# Select ten beer brands (replace with your selection criteria)\n"
   ]
  },
  {
   "cell_type": "code",
   "execution_count": 49,
   "metadata": {},
   "outputs": [
    {
     "data": {
      "text/html": [
       "<div>\n",
       "<style scoped>\n",
       "    .dataframe tbody tr th:only-of-type {\n",
       "        vertical-align: middle;\n",
       "    }\n",
       "\n",
       "    .dataframe tbody tr th {\n",
       "        vertical-align: top;\n",
       "    }\n",
       "\n",
       "    .dataframe thead th {\n",
       "        text-align: right;\n",
       "    }\n",
       "</style>\n",
       "<table border=\"1\" class=\"dataframe\">\n",
       "  <thead>\n",
       "    <tr style=\"text-align: right;\">\n",
       "      <th></th>\n",
       "      <th>Old Chub</th>\n",
       "      <th>Voodoo Ranger Juicy Haze IPA</th>\n",
       "      <th>Harvest Ale (Limited Edition)</th>\n",
       "      <th>The Angel's Share - Bourbon Barrel-Aged</th>\n",
       "      <th>Weihenstephaner Korbinian</th>\n",
       "      <th>G'Knight</th>\n",
       "      <th>Mirror Pond Pale Ale</th>\n",
       "      <th>Antarctica Pilsen</th>\n",
       "      <th>Dark Lord</th>\n",
       "      <th>Breakfast Stout</th>\n",
       "    </tr>\n",
       "  </thead>\n",
       "  <tbody>\n",
       "    <tr>\n",
       "      <th>light</th>\n",
       "      <td>1.050063</td>\n",
       "      <td>0.816716</td>\n",
       "      <td>1.429253</td>\n",
       "      <td>0.918805</td>\n",
       "      <td>0.890963</td>\n",
       "      <td>0.918805</td>\n",
       "      <td>1.225074</td>\n",
       "      <td>1.225074</td>\n",
       "      <td>0.700042</td>\n",
       "      <td>0.735044</td>\n",
       "    </tr>\n",
       "    <tr>\n",
       "      <th>malt</th>\n",
       "      <td>2.146416</td>\n",
       "      <td>0.0</td>\n",
       "      <td>0.50083</td>\n",
       "      <td>0.375623</td>\n",
       "      <td>2.458622</td>\n",
       "      <td>1.878114</td>\n",
       "      <td>1.502491</td>\n",
       "      <td>1.001661</td>\n",
       "      <td>0.858566</td>\n",
       "      <td>0.300498</td>\n",
       "    </tr>\n",
       "    <tr>\n",
       "      <th>sweet</th>\n",
       "      <td>2.692776</td>\n",
       "      <td>0.349064</td>\n",
       "      <td>2.094381</td>\n",
       "      <td>1.178089</td>\n",
       "      <td>1.713585</td>\n",
       "      <td>1.570786</td>\n",
       "      <td>0.523595</td>\n",
       "      <td>0.0</td>\n",
       "      <td>2.24398</td>\n",
       "      <td>1.256629</td>\n",
       "    </tr>\n",
       "    <tr>\n",
       "      <th>dark</th>\n",
       "      <td>3.897439</td>\n",
       "      <td>0.0</td>\n",
       "      <td>1.818805</td>\n",
       "      <td>3.410259</td>\n",
       "      <td>3.968301</td>\n",
       "      <td>2.046155</td>\n",
       "      <td>0.0</td>\n",
       "      <td>0.0</td>\n",
       "      <td>4.676927</td>\n",
       "      <td>2.182566</td>\n",
       "    </tr>\n",
       "  </tbody>\n",
       "</table>\n",
       "</div>"
      ],
      "text/plain": [
       "       Old Chub Voodoo Ranger Juicy Haze IPA Harvest Ale (Limited Edition)  \\\n",
       "light  1.050063                     0.816716                      1.429253   \n",
       "malt   2.146416                          0.0                       0.50083   \n",
       "sweet  2.692776                     0.349064                      2.094381   \n",
       "dark   3.897439                          0.0                      1.818805   \n",
       "\n",
       "      The Angel's Share - Bourbon Barrel-Aged Weihenstephaner Korbinian  \\\n",
       "light                                0.918805                  0.890963   \n",
       "malt                                 0.375623                  2.458622   \n",
       "sweet                                1.178089                  1.713585   \n",
       "dark                                 3.410259                  3.968301   \n",
       "\n",
       "       G'Knight Mirror Pond Pale Ale Antarctica Pilsen Dark Lord  \\\n",
       "light  0.918805             1.225074          1.225074  0.700042   \n",
       "malt   1.878114             1.502491          1.001661  0.858566   \n",
       "sweet  1.570786             0.523595               0.0   2.24398   \n",
       "dark   2.046155                  0.0               0.0  4.676927   \n",
       "\n",
       "      Breakfast Stout  \n",
       "light        0.735044  \n",
       "malt         0.300498  \n",
       "sweet        1.256629  \n",
       "dark         2.182566  "
      ]
     },
     "execution_count": 49,
     "metadata": {},
     "output_type": "execute_result"
    }
   ],
   "source": [
    "lift_df"
   ]
  },
  {
   "cell_type": "code",
   "execution_count": 51,
   "metadata": {},
   "outputs": [
    {
     "name": "stdout",
     "output_type": "stream",
     "text": [
      "The most similar beer to Weihenstephaner Korbinian is Dark Lord based on the attribute 'dark' with a lift value of 4.676926691729323.\n"
     ]
    }
   ],
   "source": [
    "# Choose a reference beer (replace with the beer you want to use as reference)\n",
    "reference_beer = 'Weihenstephaner Korbinian'\n",
    "\n",
    "# Create a dictionary to store the most similar beer for each reference attribute\n",
    "most_similar_beers = {}\n",
    "\n",
    "# Iterate through the remaining nine beers\n",
    "for beer in selected_beer_brands:\n",
    "    if beer != reference_beer:  # Exclude the reference beer itself\n",
    "        most_similar_attribute = None\n",
    "        highest_lift = 0.0\n",
    "\n",
    "        # Find the attribute with the highest lift value when associated with the reference beer\n",
    "        for attribute in attributes:\n",
    "            lift_value = lift_df.at[attribute, beer]\n",
    "            if lift_value > highest_lift:\n",
    "                highest_lift = lift_value\n",
    "                most_similar_attribute = attribute\n",
    "\n",
    "        # Store the most similar beer for the reference beer\n",
    "        most_similar_beers[beer] = (most_similar_attribute, highest_lift)\n",
    "\n",
    "# Find the beer with the highest lift value\n",
    "most_similar_beer = max(most_similar_beers, key=lambda x: most_similar_beers[x][1])\n",
    "similar_attribute, highest_lift = most_similar_beers[most_similar_beer]\n",
    "\n",
    "print(f\"The most similar beer to {reference_beer} is {most_similar_beer} based on the attribute '{similar_attribute}' with a lift value of {highest_lift}.\")"
   ]
  },
  {
   "cell_type": "code",
   "execution_count": null,
   "metadata": {},
   "outputs": [],
   "source": []
  }
 ],
 "metadata": {
  "kernelspec": {
   "display_name": "Python 3",
   "language": "python",
   "name": "python3"
  },
  "language_info": {
   "codemirror_mode": {
    "name": "ipython",
    "version": 3
   },
   "file_extension": ".py",
   "mimetype": "text/x-python",
   "name": "python",
   "nbconvert_exporter": "python",
   "pygments_lexer": "ipython3",
   "version": "3.11.4"
  },
  "orig_nbformat": 4
 },
 "nbformat": 4,
 "nbformat_minor": 2
}
